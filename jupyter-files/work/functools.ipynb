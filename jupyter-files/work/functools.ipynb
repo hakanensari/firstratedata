{
 "cells": [
  {
   "cell_type": "code",
   "execution_count": 4,
   "id": "940e7f4f-ea9e-4f82-8fec-73a2f0c48c4a",
   "metadata": {},
   "outputs": [
    {
     "data": {
      "text/plain": [
       "285"
      ]
     },
     "execution_count": 4,
     "metadata": {},
     "output_type": "execute_result"
    }
   ],
   "source": [
    "import functools\n",
    "\n",
    "functools.reduce( lambda memo, value: memo + value ** 2, range(1, 10))"
   ]
  },
  {
   "cell_type": "code",
   "execution_count": 3,
   "id": "edd0b141-9ef6-4fed-8487-93218f546f71",
   "metadata": {},
   "outputs": [
    {
     "data": {
      "text/plain": [
       "285"
      ]
     },
     "execution_count": 3,
     "metadata": {},
     "output_type": "execute_result"
    }
   ],
   "source": [
    "import functools\n",
    "\n",
    "\n",
    "def sum_of_squares(memo, value):\n",
    "    return memo + value ** 2\n",
    "\n",
    "\n",
    "functools.reduce(sum_of_squares, range(1, 10), 0)"
   ]
  },
  {
   "cell_type": "code",
   "execution_count": 1,
   "id": "d3f18f33-586b-473d-ae2d-602769320feb",
   "metadata": {},
   "outputs": [
    {
     "data": {
      "text/plain": [
       "285"
      ]
     },
     "execution_count": 1,
     "metadata": {},
     "output_type": "execute_result"
    }
   ],
   "source": [
    "memo = 0\n",
    "for value in range(1, 10):\n",
    "    memo = memo + value ** 2\n",
    "memo"
   ]
  },
  {
   "cell_type": "code",
   "execution_count": null,
   "id": "5b865f42-b2f9-4915-8f52-e50d6284ea24",
   "metadata": {},
   "outputs": [],
   "source": []
  }
 ],
 "metadata": {
  "kernelspec": {
   "display_name": "Python 3",
   "language": "python",
   "name": "python3"
  },
  "language_info": {
   "codemirror_mode": {
    "name": "ipython",
    "version": 3
   },
   "file_extension": ".py",
   "mimetype": "text/x-python",
   "name": "python",
   "nbconvert_exporter": "python",
   "pygments_lexer": "ipython3",
   "version": "3.9.2"
  }
 },
 "nbformat": 4,
 "nbformat_minor": 5
}
